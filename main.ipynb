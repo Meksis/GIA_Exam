{
 "cells": [
  {
   "cell_type": "markdown",
   "id": "0f9dc29a",
   "metadata": {},
   "source": [
    "Count And Say"
   ]
  },
  {
   "cell_type": "code",
   "execution_count": 26,
   "id": "9ba0f918",
   "metadata": {},
   "outputs": [
    {
     "name": "stdout",
     "output_type": "stream",
     "text": [
      "Результат выполнения операции 4 раз: 1211\n",
      "Результат выполнения операции 7 раз: 13112221\n"
     ]
    }
   ],
   "source": [
    "class CountAndSay:\n",
    "    def __init__(self, num):\n",
    "        if not isinstance(num, int) or num <= 0:\n",
    "            raise ValueError(\"Число должно быть натуральным.\")\n",
    "        self.num = num\n",
    "        self.solution = \"1\"\n",
    "\n",
    "    def countAndSay(self):\n",
    "        for _ in range(self.num - 1):  # Начинаем с 1, поэтому выполняем num-1 итераций\n",
    "            current = self.solution\n",
    "            next_sequence = []\n",
    "            count = 1\n",
    "\n",
    "            # Проходим по текущей строке и формируем следующую\n",
    "            for i in range(1, len(current)):\n",
    "                if current[i] == current[i - 1]:\n",
    "                    count += 1  # Увеличиваем счетчик, если символ совпадает с предыдущим\n",
    "\n",
    "                else:\n",
    "                    next_sequence.append(f\"{count}{current[i - 1]}\")\n",
    "                    count = 1\n",
    "\n",
    "            # Добавляем последний блок (последний символ и его количество)\n",
    "            next_sequence.append(f\"{count}{current[-1]}\")\n",
    "\n",
    "            # Обновляем решение для следующей итерации\n",
    "            self.solution = ''.join(next_sequence)\n",
    "\n",
    "    def __str__(self):\n",
    "        return f\"Результат выполнения операции {self.num} раз: {self.solution}\"\n",
    "\n",
    "\n",
    "a = CountAndSay(4)\n",
    "a.countAndSay()\n",
    "print(a)  # Результат выполнения операции 4 раз: 1211\n",
    "\n",
    "b = CountAndSay(7)\n",
    "b.countAndSay()\n",
    "print(b)  # Результат выполнения операции 7 раз: 13112221"
   ]
  },
  {
   "cell_type": "markdown",
   "id": "74ffb97e",
   "metadata": {},
   "source": [
    "---"
   ]
  },
  {
   "cell_type": "markdown",
   "id": "8856ccf0",
   "metadata": {},
   "source": [
    "All Possible Combinations"
   ]
  },
  {
   "cell_type": "code",
   "execution_count": null,
   "id": "78a8c7d0",
   "metadata": {},
   "outputs": [
    {
     "name": "stdout",
     "output_type": "stream",
     "text": [
      "For gained sequence [1, 2, 3] possible permutes is [[1, 2, 3], [1, 3, 2], [2, 1, 3], [2, 3, 1], [3, 1, 2], [3, 2, 1]]\n",
      "2\n",
      "For gained sequence [1, 2, 3, 4] possible permutes is [[1, 2, 3, 4], [1, 2, 4, 3], [1, 3, 2, 4], [1, 3, 4, 2], [1, 4, 2, 3], [1, 4, 3, 2], [2, 1, 3, 4], [2, 1, 4, 3], [2, 3, 1, 4], [2, 3, 4, 1], [2, 4, 1, 3], [2, 4, 3, 1], [3, 1, 2, 4], [3, 1, 4, 2], [3, 2, 1, 4], [3, 2, 4, 1], [3, 4, 1, 2], [3, 4, 2, 1], [4, 1, 2, 3], [4, 1, 3, 2], [4, 2, 1, 3], [4, 2, 3, 1], [4, 3, 1, 2], [4, 3, 2, 1]]\n",
      "2.5\n"
     ]
    }
   ],
   "source": [
    "# class MedianCalculator:\n",
    "#     def __init__(self, func):\n",
    "#         self.func = func\n",
    "\n",
    "#     def __call__(self, *args, **kwargs):\n",
    "#         nums = sorted(self.nums)\n",
    "#         n = len(nums)\n",
    "#         if n % 2 == 1:\n",
    "#             median = nums[n // 2]\n",
    "#         else:\n",
    "#             median = (nums[n // 2 - 1] + nums[n // 2]) / 2\n",
    "#         return median\n",
    "\n",
    "\n",
    "def median_decorator(func):\n",
    "    def wrapper(self, *args, **kwargs):\n",
    "        return func(self, *args, **kwargs)\n",
    "\n",
    "    return wrapper\n",
    "\n",
    "\n",
    "class Class:\n",
    "    def __init__(self, nums):\n",
    "        self.nums = nums\n",
    "        self.solution = []\n",
    "\n",
    "    def permute(self):\n",
    "        self._generate_permutations(self.nums, [])\n",
    "        \n",
    "        # The simpliest method\n",
    "        # self.solution = [list(p) for p in permutations(self.nums)]\n",
    "\n",
    "\n",
    "    def _generate_permutations(self, remaining, current):\n",
    "        # print(remaining, current)\n",
    "        if not remaining:\n",
    "            self.solution.append(current)\n",
    "            # print('!!!', current)\n",
    "            return\n",
    "        \n",
    "                                            # [1,2,3]\n",
    "        for i in range(len(remaining)):     # 0-2, 0\n",
    "            # remaining[0] = 1 => new_remaining = [] + [2,3] = [2,3]\n",
    "            new_remaining = remaining[:i] + remaining[i + 1:]           # All except fixed number\n",
    "            # current = [], remaining[0] = 1, new_current = [] + [1] = [1]\n",
    "            new_current = current + [remaining[i]]                      # Filling sequence\n",
    "            # print(\"-\" * 4 + '\\n', new_remaining, new_current, '\\n\\n') \n",
    "            # new_remaining = [2, 3], new_current = [1]  \n",
    "            self._generate_permutations(new_remaining, new_current)     # Recursive call\n",
    "\n",
    "\n",
    "\n",
    "    # @MedianCalculator\n",
    "    @median_decorator\n",
    "    def mediana(self):\n",
    "        arr = sorted(self.nums)\n",
    "        n = len(arr)\n",
    "        if n == 0:\n",
    "            return None\n",
    "\n",
    "        # Если длина массива нечетная – возвращаем средний элемент\n",
    "        if n % 2 == 1:\n",
    "            return arr[n // 2]\n",
    "        else:\n",
    "            return (arr[n // 2 - 1] + arr[n // 2]) / 2\n",
    "\n",
    "    def __str__(self):\n",
    "        return f\"For gained sequence {self.nums} possible permutes is {self.solution}\"\n",
    "\n",
    "\n",
    "a = Class([1, 2, 3])\n",
    "a.permute()\n",
    "print(a)  \n",
    "print(a.mediana())  # 2\n",
    "\n",
    "b = Class([1,2,3,4])\n",
    "b.permute()\n",
    "print(b)  \n",
    "print(b.mediana())  # 2.5"
   ]
  },
  {
   "cell_type": "markdown",
   "id": "1fa62277",
   "metadata": {},
   "source": [
    "---"
   ]
  },
  {
   "cell_type": "markdown",
   "id": "1d2a84da",
   "metadata": {},
   "source": [
    "Roman To Arabic"
   ]
  },
  {
   "cell_type": "code",
   "execution_count": null,
   "id": "2b7cfa2f",
   "metadata": {},
   "outputs": [],
   "source": [
    "# # Словарь для перевода римских символов в арабские числа\n",
    "# alphabet = {'I': 1, 'V': 5, 'X': 10, 'L': 50, 'C': 100, 'D': 500, 'M': 1000}\n",
    "\n",
    "# # Функция для перевода римского числа в арабское\n",
    "# def roman_to_arabic(roman):\n",
    "#     arab_nums = []\n",
    "#     for symbol in roman:\n",
    "#         if symbol not in alphabet:\n",
    "#             raise ValueError(f\"Недопустимый символ '{symbol}' в римском числе.\")\n",
    "#         arab_nums.append(alphabet[symbol])\n",
    "\n",
    "#     total = 0\n",
    "#     prev_value = 0\n",
    "\n",
    "#     # Обрабатываем вычитающие комбинации\n",
    "#     for value in reversed(arab_nums):\n",
    "#         if value < prev_value:\n",
    "#             total -= value\n",
    "#         else:\n",
    "#             total += value\n",
    "#         prev_value = value\n",
    "\n",
    "#     return total"
   ]
  },
  {
   "cell_type": "code",
   "execution_count": 34,
   "id": "2e1a5fd6",
   "metadata": {},
   "outputs": [
    {
     "name": "stdout",
     "output_type": "stream",
     "text": [
      "Вычисляем число\n",
      "Число 495 в римской системе счисления равно CDXCV\n",
      "Читаем из кэша\n",
      "Число 495 в римской системе счисления равно CDXCV\n",
      "Вычисляем число\n",
      "Число 1949 в римской системе счисления равно MCMXLIX\n",
      "Читаем из кэша\n",
      "Число 1949 в римской системе счисления равно MCMXLIX\n"
     ]
    }
   ],
   "source": [
    "def cache_result(method):\n",
    "    def wrapper(self):\n",
    "        # Если результат уже вычислен, возвращаем его из кэша\n",
    "        if self.solution is not None:\n",
    "            print(\"Читаем из кэша\")\n",
    "            return self.solution\n",
    "        # Выполняем метод только при первом вызове\n",
    "        return method(self)\n",
    "    return wrapper\n",
    "\n",
    "class RomanConverter:\n",
    "    def __init__(self, num):\n",
    "        if not isinstance(num, int) or num <= 0:\n",
    "            raise ValueError(\"Число должно быть натуральным.\")\n",
    "        self.num = num        # Исходное число\n",
    "        self.solution = None  # Кэш\n",
    "\n",
    "    @cache_result\n",
    "    def intToRoman(self):\n",
    "        print(\"Вычисляем число\")\n",
    "        # Список пар (значение, римский символ) в порядке убывания\n",
    "        roman_map = [\n",
    "            (1000, \"M\"), (900, \"CM\"), (500, \"D\"), (400, \"CD\"),\n",
    "            (100, \"C\"), (90, \"XC\"), (50, \"L\"), (40, \"XL\"),\n",
    "            (10, \"X\"), (9, \"IX\"), (5, \"V\"), (4, \"IV\"), (1, \"I\")\n",
    "        ]\n",
    "        result = []\n",
    "        num = self.num\n",
    "        \n",
    "        # Проход по всем парам для формирования результата\n",
    "        for value, symbol in roman_map:\n",
    "            while num >= value:        # Пока значение подходит\n",
    "                result.append(symbol)  # Добавляем символ\n",
    "                num -= value           # Уменьшаем оставшееся число\n",
    "        \n",
    "        self.solution = \"\".join(result)  # Сохраняем результат в кэш\n",
    "        return self.solution\n",
    "    \n",
    "    def __str__(self):\n",
    "        if self.solution is None:\n",
    "            return \"Число еще не переведено в римскую систему счисления.\"\n",
    "        return f\"Число {self.num} в римской системе счисления равно {self.solution}\"\n",
    "\n",
    "\n",
    "a = RomanConverter(495)\n",
    "a.intToRoman()\n",
    "print(a)\n",
    "a.intToRoman()\n",
    "print(a)\n",
    "\n",
    "b = RomanConverter(1949)\n",
    "b.intToRoman()\n",
    "print(b)\n",
    "b.intToRoman()\n",
    "print(b)"
   ]
  },
  {
   "cell_type": "markdown",
   "id": "93782d3c",
   "metadata": {},
   "source": [
    "---"
   ]
  },
  {
   "cell_type": "markdown",
   "id": "fd3eb734",
   "metadata": {},
   "source": [
    "Василий считает, что когда текст пишут в скобках (как вот тут, например), его читать не нужно. Вот и надумал он существенно укоротить время чтения, написав функцию, которая будет удалять все, что расположено внутри скобок. Помогите ленивому Васе разработать функцию, которая будет удалять все, что внутри скобок и сами эти скобки, возвращая очищенный текст (скобки могут быть вложенными)."
   ]
  },
  {
   "cell_type": "code",
   "execution_count": 6,
   "id": "c4b1476e",
   "metadata": {},
   "outputs": [
    {
     "name": "stdout",
     "output_type": "stream",
     "text": [
      "О могильную плиту удар исправит прикус . Слова из трека моего любимого бенда\n"
     ]
    }
   ],
   "source": [
    "# За счет учета вложенности, получается оставить текст вне скобок в исходном виде\n",
    "\n",
    "def remove_parentheses(text):\n",
    "    result = []\n",
    "    depth = 0    # Переменная для отслеживания уровня вложенности скобок\n",
    "\n",
    "    for char in text:\n",
    "        if char == '(':\n",
    "            depth += 1               # Увеличиваем уровень вложенности при открывающей скобке\n",
    "\n",
    "        elif char == ')':\n",
    "            if depth > 0:\n",
    "                depth -= 1           # Уменьшаем уровень вложенности при закрывающей скобке\n",
    "        else:\n",
    "            if depth == 0:\n",
    "                result.append(char)  # Добавляем символ в результат, если он не внутри скобок\n",
    "\n",
    "    return ''.join(result)\n",
    "\n",
    "\n",
    "text = \"О могильную плиту удар исправит прикус (Velial Squad) ((Великий и ужасный)). Слова из трека моего любимого бенда\"\n",
    "cleaned_text = remove_parentheses(text)\n",
    "print(cleaned_text)"
   ]
  },
  {
   "cell_type": "code",
   "execution_count": 7,
   "id": "fdf88611",
   "metadata": {},
   "outputs": [
    {
     "name": "stdout",
     "output_type": "stream",
     "text": [
      "О могильную плиту удар исправит прикус . Слова из трека моего любимого бенда\n"
     ]
    }
   ],
   "source": [
    "import re\n",
    "\n",
    "def remove_parentheses(text):\n",
    "    while '(' in text:\n",
    "        text = re.sub(r'\\([^()]*\\)', '', text)  # Удаление скобок и вложенного в них текста\n",
    "    return ' '.join(text.split()) # Удаление лишних пробелов\n",
    "\n",
    "text = \"О могильную плиту удар исправит прикус (Velial Squad) ((Великий и ужасный)). Слова из трека моего любимого бенда\"\n",
    "cleaned_text = remove_parentheses(text)\n",
    "print(cleaned_text)"
   ]
  },
  {
   "cell_type": "markdown",
   "id": "9a4bf463",
   "metadata": {},
   "source": [
    "---"
   ]
  },
  {
   "cell_type": "markdown",
   "id": "7c7cf9f7",
   "metadata": {},
   "source": [
    "Напишите класс со следующими условиями:\n",
    "Метод инициализации экземпляра создает для него поля nums (массив натуральных чисел, отсортированный в неубывающем порядке), solution (массив)\n",
    "Метод обработки массива nums в массив solution так, чтобы первые элементы массива solution содержали уникальные элементы в том порядке, в котором они присутствовали в nums изначально\n",
    "Метод печати по заданному образцу\n",
    "\n",
    "Декорируйте класс методом вычисления суммы элементов массива.\n",
    "\n",
    "Сложность решения: временная сложность - O(N), пространственная сложность - O(N) (N – длина массива)\n"
   ]
  },
  {
   "cell_type": "code",
   "execution_count": 22,
   "id": "3fe546a7",
   "metadata": {},
   "outputs": [
    {
     "name": "stdout",
     "output_type": "stream",
     "text": [
      "Исходный массив: [1, 1, 2, 2, 3, 4, 4]\n",
      "Итоговый массив: [1, 2, 3, 4, '_', '_', '_']\n",
      "Сумма элементов: 10\n"
     ]
    }
   ],
   "source": [
    "# Временная сложность зависит от использованных методов и структур данных. Влияет на количество операций, необходимых для выполнения алгоритма.\n",
    "\n",
    "# Пространственная сложность также зависит от используемых методов и структур данных и отображает количество памяти,\n",
    "# необходимое для хранения промежуточных результатов и окончательного результата.\n",
    "\n",
    "def sum_decorator(method):\n",
    "    def wrapper(self):\n",
    "        if self.solution:\n",
    "            return sum(self.solution[:self.solution.index('_')])\n",
    "        \n",
    "        else:\n",
    "            return f\"Массив еще не отсортирован, сумма исходных элементов - {sum(self.nums)}\"\n",
    "    return wrapper\n",
    "\n",
    "class UniqueArrayProcessor:\n",
    "    def __init__(self, nums):\n",
    "        self.nums = sorted(nums)\n",
    "        self.solution = []\n",
    "\n",
    "    def process(self):\n",
    "        seen = set()    # Множество для отслеживания уникальных элементов                       # O(1) в худшем случае\n",
    "        self.solution = [num for num in self.nums if not (num in seen or seen.add(num))]        # O(n)\n",
    "        self.solution += ['_'] * (len(self.nums) - len(self.solution))\n",
    "\n",
    "    @sum_decorator\n",
    "    def array_sum(self):\n",
    "        pass\n",
    "\n",
    "    def __str__(self):\n",
    "        return f\"Исходный массив: {self.nums}\\nИтоговый массив: {self.solution}\"\n",
    "\n",
    "nums = [4, 2, 2, 3, 1, 4, 1]\n",
    "processor = UniqueArrayProcessor(nums)\n",
    "processor.process()\n",
    "print(processor)\n",
    "print(f\"Сумма элементов: {processor.array_sum()}\")"
   ]
  }
 ],
 "metadata": {
  "kernelspec": {
   "display_name": ".venv",
   "language": "python",
   "name": "python3"
  },
  "language_info": {
   "codemirror_mode": {
    "name": "ipython",
    "version": 3
   },
   "file_extension": ".py",
   "mimetype": "text/x-python",
   "name": "python",
   "nbconvert_exporter": "python",
   "pygments_lexer": "ipython3",
   "version": "3.12.5"
  }
 },
 "nbformat": 4,
 "nbformat_minor": 5
}
